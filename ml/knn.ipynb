{
 "cells": [
  {
   "cell_type": "code",
   "execution_count": 117,
   "metadata": {},
   "outputs": [],
   "source": [
    "import torch"
   ]
  },
  {
   "cell_type": "markdown",
   "metadata": {},
   "source": [
    "# KNN Implementation"
   ]
  },
  {
   "cell_type": "code",
   "execution_count": 118,
   "metadata": {},
   "outputs": [],
   "source": [
    "def distance(x1,x2):\n",
    "    dist = (((x1 - x2)**2).sum(dim=1))**0.5\n",
    "    return dist\n",
    "\n",
    "def predict(xtrain, ytrain, xpredict,k):\n",
    "    #calculate distance\n",
    "    dist_predict = distance(xtrain, xpredict)\n",
    "    print(f\"distance : {dist_predict}\")\n",
    "    sort_value, sort_idx = torch.sort(dist_predict)\n",
    "    class_values  = ytrain[sort_idx][:k]\n",
    "    print(f\"top k : {k}, values : {class_values}\")\n",
    "    value, count = torch.unique(class_values,return_counts=True)\n",
    "    knn_class = value[torch.argmax(count)]\n",
    "\n",
    "    return knn_class.item()\n",
    "\n"
   ]
  },
  {
   "cell_type": "code",
   "execution_count": 119,
   "metadata": {},
   "outputs": [
    {
     "name": "stdout",
     "output_type": "stream",
     "text": [
      "distance : tensor([1.0059, 1.2799, 2.7294, 1.2629, 1.4280, 0.7856, 2.7761, 2.1461, 1.0867,\n",
      "        1.1984])\n",
      "top k : 7, values : tensor([0, 1, 2, 2, 0, 1, 1])\n"
     ]
    },
    {
     "data": {
      "text/plain": [
       "1"
      ]
     },
     "execution_count": 119,
     "metadata": {},
     "output_type": "execute_result"
    }
   ],
   "source": [
    "xtrain = torch.randn(20).view(10, -1)\n",
    "ytrain = torch.tensor([1,1,1,0,1,0,1,2,2,2])\n",
    "xpredict = torch.randn(1,2)\n",
    "k = 7\n",
    "\n",
    "predict(xtrain,ytrain,xpredict,k)"
   ]
  },
  {
   "cell_type": "markdown",
   "metadata": {},
   "source": [
    "# Pytorchifying KNN"
   ]
  },
  {
   "cell_type": "code",
   "execution_count": 120,
   "metadata": {},
   "outputs": [
    {
     "name": "stdout",
     "output_type": "stream",
     "text": [
      "distance : tensor([1.0059, 1.2799, 2.7294, 1.2629, 1.4280, 0.7856, 2.7761, 2.1461, 1.0867,\n",
      "        1.1984])\n",
      "top k : 7, values : tensor([0, 1, 2, 2, 0, 1, 1])\n",
      "Predicted Lable: 1\n"
     ]
    },
    {
     "data": {
      "text/plain": [
       "1"
      ]
     },
     "execution_count": 120,
     "metadata": {},
     "output_type": "execute_result"
    }
   ],
   "source": [
    "def distance(x1,x2):\n",
    "    return (((x1-x2)**2).sum(dim=1))**0.5\n",
    "\n",
    "class KNN:\n",
    "\n",
    "    def __init__(self, k):\n",
    "        self.k = k \n",
    "        self.xtrain = None\n",
    "        self.ytrain = None\n",
    "\n",
    "    def train(self,xtrain, ytrain):\n",
    "        self.xtrain = xtrain\n",
    "        self.ytrain = ytrain\n",
    "         \n",
    "\n",
    "    def predict(self, xpredict):\n",
    "\n",
    "        dist_predict = distance(self.xtrain, xpredict)\n",
    "        print(f\"distance : {dist_predict}\")\n",
    "        sort_value, sort_idx = torch.sort(dist_predict)\n",
    "        class_values  = self.ytrain[sort_idx][:self.k]\n",
    "        print(f\"top k : {self.k}, values : {class_values}\")\n",
    "        value, count = torch.unique(class_values,return_counts=True)\n",
    "        knn_class = value[torch.argmax(count)]\n",
    "        print(f\"Predicted Lable: {knn_class.item()}\")\n",
    "        \n",
    "        return knn_class.item()\n",
    "\n",
    "        \n",
    "knn_obj = KNN(k=7)\n",
    "knn_obj.train(xtrain,ytrain)\n",
    "knn_obj.predict(xpredict)\n",
    "\n"
   ]
  },
  {
   "cell_type": "code",
   "execution_count": null,
   "metadata": {},
   "outputs": [],
   "source": []
  },
  {
   "cell_type": "code",
   "execution_count": null,
   "metadata": {},
   "outputs": [],
   "source": []
  },
  {
   "cell_type": "code",
   "execution_count": null,
   "metadata": {},
   "outputs": [],
   "source": []
  },
  {
   "cell_type": "code",
   "execution_count": null,
   "metadata": {},
   "outputs": [],
   "source": []
  }
 ],
 "metadata": {
  "kernelspec": {
   "display_name": "Python 3",
   "language": "python",
   "name": "python3"
  },
  "language_info": {
   "codemirror_mode": {
    "name": "ipython",
    "version": 3
   },
   "file_extension": ".py",
   "mimetype": "text/x-python",
   "name": "python",
   "nbconvert_exporter": "python",
   "pygments_lexer": "ipython3",
   "version": "3.12.2"
  }
 },
 "nbformat": 4,
 "nbformat_minor": 2
}
