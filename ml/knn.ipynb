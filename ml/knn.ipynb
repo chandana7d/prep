{
 "cells": [
  {
   "cell_type": "code",
   "execution_count": 112,
   "metadata": {},
   "outputs": [],
   "source": [
    "import torch"
   ]
  },
  {
   "cell_type": "markdown",
   "metadata": {},
   "source": [
    "# KNN Implementation"
   ]
  },
  {
   "cell_type": "code",
   "execution_count": 113,
   "metadata": {},
   "outputs": [],
   "source": [
    "def distance(x1,x2):\n",
    "    dist = (((x1 - x2)**2).sum(dim=1))**0.5\n",
    "    return dist\n",
    "\n",
    "def predict(xtrain, ytrain, xpredict,k):\n",
    "    #calculate distance\n",
    "    dist_predict = distance(xtrain, xpredict)\n",
    "    print(f\"distance : {dist_predict}\")\n",
    "    sort_value, sort_idx = torch.sort(dist_predict)\n",
    "    class_values  = ytrain[sort_idx][:k]\n",
    "    print(f\"top k : {k}, values : {class_values}\")\n",
    "    value, count = torch.unique(class_values,return_counts=True)\n",
    "    knn_class = value[torch.argmax(count)]\n",
    "\n",
    "    return knn_class.item()\n",
    "\n"
   ]
  },
  {
   "cell_type": "code",
   "execution_count": 114,
   "metadata": {},
   "outputs": [
    {
     "name": "stdout",
     "output_type": "stream",
     "text": [
      "distance : tensor([0.4943, 1.0864, 0.6967, 1.8646, 0.5749, 2.9590, 2.0016, 2.4407, 1.1807,\n",
      "        0.9597])\n",
      "top k : 7, values : tensor([1, 1, 1, 2, 1, 2, 0])\n"
     ]
    },
    {
     "data": {
      "text/plain": [
       "1"
      ]
     },
     "execution_count": 114,
     "metadata": {},
     "output_type": "execute_result"
    }
   ],
   "source": [
    "xtrain = torch.randn(20).view(10, -1)\n",
    "ytrain = torch.tensor([1,1,1,0,1,0,1,2,2,2])\n",
    "xpredict = torch.randn(1,2)\n",
    "k = 7\n",
    "\n",
    "predict(xtrain,ytrain,xpredict,k)"
   ]
  },
  {
   "cell_type": "markdown",
   "metadata": {},
   "source": [
    "# Pytorchifying KNN"
   ]
  },
  {
   "cell_type": "code",
   "execution_count": 116,
   "metadata": {},
   "outputs": [
    {
     "name": "stdout",
     "output_type": "stream",
     "text": [
      "distance : tensor([0.4943, 1.0864, 0.6967, 1.8646, 0.5749, 2.9590, 2.0016, 2.4407, 1.1807,\n",
      "        0.9597])\n",
      "top k : 7, values : tensor([1, 1, 1, 2, 1, 2, 0])\n",
      "Predicted Lable: 1\n"
     ]
    },
    {
     "data": {
      "text/plain": [
       "1"
      ]
     },
     "execution_count": 116,
     "metadata": {},
     "output_type": "execute_result"
    }
   ],
   "source": [
    "def distance(x1,x2):\n",
    "    return (((x1-x2)**2).sum(dim=1))**0.5\n",
    "\n",
    "class KNN:\n",
    "\n",
    "    def __init__(self, k):\n",
    "        self.k = k \n",
    "        self.xtrain = xtrain\n",
    "        self.ytrain = ytrain\n",
    "\n",
    "    def train(self,xtrain, ytrain):\n",
    "        pass \n",
    "\n",
    "    def predict(self, xpredict):\n",
    "\n",
    "        dist_predict = distance(self.xtrain, xpredict)\n",
    "        print(f\"distance : {dist_predict}\")\n",
    "        sort_value, sort_idx = torch.sort(dist_predict)\n",
    "        class_values  = self.ytrain[sort_idx][:self.k]\n",
    "        print(f\"top k : {self.k}, values : {class_values}\")\n",
    "        value, count = torch.unique(class_values,return_counts=True)\n",
    "        knn_class = value[torch.argmax(count)]\n",
    "        print(f\"Predicted Lable: {knn_class.item()}\")\n",
    "        \n",
    "        return knn_class.item()\n",
    "\n",
    "        \n",
    "knn_obj = KNN(k=7)\n",
    "#knn_obj.train(xtrain,ytrain)\n",
    "knn_obj.predict(xpredict)\n",
    "\n"
   ]
  },
  {
   "cell_type": "code",
   "execution_count": null,
   "metadata": {},
   "outputs": [],
   "source": []
  },
  {
   "cell_type": "code",
   "execution_count": null,
   "metadata": {},
   "outputs": [],
   "source": []
  },
  {
   "cell_type": "code",
   "execution_count": null,
   "metadata": {},
   "outputs": [],
   "source": []
  },
  {
   "cell_type": "code",
   "execution_count": null,
   "metadata": {},
   "outputs": [],
   "source": []
  }
 ],
 "metadata": {
  "kernelspec": {
   "display_name": "Python 3",
   "language": "python",
   "name": "python3"
  },
  "language_info": {
   "codemirror_mode": {
    "name": "ipython",
    "version": 3
   },
   "file_extension": ".py",
   "mimetype": "text/x-python",
   "name": "python",
   "nbconvert_exporter": "python",
   "pygments_lexer": "ipython3",
   "version": "3.12.2"
  }
 },
 "nbformat": 4,
 "nbformat_minor": 2
}
